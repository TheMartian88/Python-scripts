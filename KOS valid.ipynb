{
 "cells": [
  {
   "cell_type": "markdown",
   "id": "ab256b12-853e-48d6-934f-d7e437c10468",
   "metadata": {},
   "source": [
    "# Часть 1: Отправка выгрузки с номерами телефонов и e-mail пользователей"
   ]
  },
  {
   "cell_type": "code",
   "execution_count": 1,
   "id": "ffbd03d1",
   "metadata": {},
   "outputs": [],
   "source": [
    "import pandas as pd"
   ]
  },
  {
   "cell_type": "code",
   "execution_count": 2,
   "id": "db3e0cf8",
   "metadata": {},
   "outputs": [],
   "source": [
    "# Выгрузка BI\n",
    "df1 = pd.read_excel('/Users/bashir/Desktop/НТУ/Валидация КОС/ГЗ_2_03 Выгрузка sessions.xlsx', skiprows=2)\n",
    "df2 = pd.read_excel('/Users/bashir/Desktop/НТУ/Валидация КОС/ГЗ_2_04 Выгрузка user.xlsx', skiprows=2)"
   ]
  },
  {
   "cell_type": "code",
   "execution_count": 3,
   "id": "50d97fea",
   "metadata": {},
   "outputs": [],
   "source": [
    "df1 = df1[df1['task id'] == 18629]\n",
    "df2 = df2.rename(columns={'id':'user id'})"
   ]
  },
  {
   "cell_type": "code",
   "execution_count": 4,
   "id": "4bbde953",
   "metadata": {},
   "outputs": [],
   "source": [
    "df = pd.merge(df1, df2, on='user id', how='left')"
   ]
  },
  {
   "cell_type": "code",
   "execution_count": 5,
   "id": "06e2d53f",
   "metadata": {},
   "outputs": [
    {
     "data": {
      "text/html": [
       "<div>\n",
       "<style scoped>\n",
       "    .dataframe tbody tr th:only-of-type {\n",
       "        vertical-align: middle;\n",
       "    }\n",
       "\n",
       "    .dataframe tbody tr th {\n",
       "        vertical-align: top;\n",
       "    }\n",
       "\n",
       "    .dataframe thead th {\n",
       "        text-align: right;\n",
       "    }\n",
       "</style>\n",
       "<table border=\"1\" class=\"dataframe\">\n",
       "  <thead>\n",
       "    <tr style=\"text-align: right;\">\n",
       "      <th></th>\n",
       "      <th>id</th>\n",
       "      <th>phone</th>\n",
       "      <th>email</th>\n",
       "    </tr>\n",
       "  </thead>\n",
       "  <tbody>\n",
       "    <tr>\n",
       "      <th>0</th>\n",
       "      <td>1559183</td>\n",
       "      <td>9.055356e+09</td>\n",
       "      <td>elenaa_igorevna@bk.ru</td>\n",
       "    </tr>\n",
       "    <tr>\n",
       "      <th>1</th>\n",
       "      <td>1559308</td>\n",
       "      <td>9.264825e+09</td>\n",
       "      <td>siberiaangarsk@yandex.ru</td>\n",
       "    </tr>\n",
       "    <tr>\n",
       "      <th>2</th>\n",
       "      <td>1559331</td>\n",
       "      <td>9.264991e+09</td>\n",
       "      <td>syuzannamv@mail.ru</td>\n",
       "    </tr>\n",
       "    <tr>\n",
       "      <th>3</th>\n",
       "      <td>1559417</td>\n",
       "      <td>9.672172e+09</td>\n",
       "      <td>barca@inbox.ru</td>\n",
       "    </tr>\n",
       "    <tr>\n",
       "      <th>4</th>\n",
       "      <td>1560884</td>\n",
       "      <td>9.036111e+09</td>\n",
       "      <td>d7373@mail.ru</td>\n",
       "    </tr>\n",
       "  </tbody>\n",
       "</table>\n",
       "</div>"
      ],
      "text/plain": [
       "        id         phone                     email\n",
       "0  1559183  9.055356e+09     elenaa_igorevna@bk.ru\n",
       "1  1559308  9.264825e+09  siberiaangarsk@yandex.ru\n",
       "2  1559331  9.264991e+09        syuzannamv@mail.ru\n",
       "3  1559417  9.672172e+09            barca@inbox.ru\n",
       "4  1560884  9.036111e+09             d7373@mail.ru"
      ]
     },
     "execution_count": 5,
     "metadata": {},
     "output_type": "execute_result"
    }
   ],
   "source": [
    "df = df[['id', 'phone', 'email']]\n",
    "df.head()"
   ]
  },
  {
   "cell_type": "code",
   "execution_count": 6,
   "id": "a5e9f1b0-9b50-465e-b640-41e3f8d8fb76",
   "metadata": {},
   "outputs": [],
   "source": [
    "# Установите дату выгрузки для заказчика\n",
    "df.to_excel('/Users/bashir/Desktop/НТУ/Валидация КОС/Пользователи КОС 27.02.test.xlsx')"
   ]
  },
  {
   "cell_type": "code",
   "execution_count": 7,
   "id": "05372835-69db-46de-8fee-48007a3ab03b",
   "metadata": {},
   "outputs": [],
   "source": [
    "# Установите дату выгрузки для заказчика\n",
    "df[['phone', 'email']].to_excel('/Users/bashir/Desktop/НТУ/Валидация КОС/Пользователи КОС 27.02.xlsx', index=False)"
   ]
  },
  {
   "cell_type": "markdown",
   "id": "b8decd86-a9df-4787-b99f-e50ab6a2578b",
   "metadata": {
    "tags": []
   },
   "source": [
    "# Часть 2: Получение выгрузки с номерами телефонов и e-mail пользователей от заказчика и обновление сессиий"
   ]
  },
  {
   "cell_type": "code",
   "execution_count": 8,
   "id": "e80ed849-ff66-4b89-8860-0e06d09dbf2d",
   "metadata": {
    "tags": []
   },
   "outputs": [],
   "source": [
    "# Файл заказчика\n",
    "client_report = pd.read_excel('/Users/bashir/Downloads/Telegram Desktop/Пользователи КОС 27.02 впр.xlsx')"
   ]
  },
  {
   "cell_type": "code",
   "execution_count": 9,
   "id": "6a39ff03-19c2-4b52-a69e-bbba4a241215",
   "metadata": {},
   "outputs": [],
   "source": [
    "df = pd.read_excel('/Users/bashir/Desktop/НТУ/Валидация КОС/Пользователи КОС 27.02.test.xlsx')"
   ]
  },
  {
   "cell_type": "code",
   "execution_count": 10,
   "id": "b1416801-c4bf-470b-8503-dda639e4f25b",
   "metadata": {},
   "outputs": [],
   "source": [
    "update_sessions = pd.merge(df, client_report, on='phone', how='left')[['id', 'Валидация']]"
   ]
  },
  {
   "cell_type": "code",
   "execution_count": 11,
   "id": "7e2a9261-29af-4848-a339-d9a7c48525fa",
   "metadata": {},
   "outputs": [],
   "source": [
    "update_sessions = update_sessions.dropna(subset='Валидация')"
   ]
  },
  {
   "cell_type": "code",
   "execution_count": 12,
   "id": "1eecd780-7313-47e0-854b-b1dc9a29602b",
   "metadata": {},
   "outputs": [],
   "source": [
    "update_sessions['Валидация'] = update_sessions['Валидация'].astype(int)"
   ]
  },
  {
   "cell_type": "code",
   "execution_count": 13,
   "id": "089bcd07-b482-4c40-8d6e-0a01cdb20ff1",
   "metadata": {},
   "outputs": [],
   "source": [
    "def set_status(data):\n",
    "    if data == 1:\n",
    "        return 'taskCompleted'\n",
    "    if data == 0:\n",
    "        return 'taskNotCompleted'"
   ]
  },
  {
   "cell_type": "code",
   "execution_count": 14,
   "id": "ed1e3927-6e7f-4461-99d4-79415b4c87a9",
   "metadata": {},
   "outputs": [],
   "source": [
    "update_sessions['status'] = update_sessions['Валидация'].apply(set_status)"
   ]
  },
  {
   "cell_type": "code",
   "execution_count": 15,
   "id": "f8712bf9-e91e-4420-b68b-b11303e3951e",
   "metadata": {},
   "outputs": [
    {
     "data": {
      "text/html": [
       "<div>\n",
       "<style scoped>\n",
       "    .dataframe tbody tr th:only-of-type {\n",
       "        vertical-align: middle;\n",
       "    }\n",
       "\n",
       "    .dataframe tbody tr th {\n",
       "        vertical-align: top;\n",
       "    }\n",
       "\n",
       "    .dataframe thead th {\n",
       "        text-align: right;\n",
       "    }\n",
       "</style>\n",
       "<table border=\"1\" class=\"dataframe\">\n",
       "  <thead>\n",
       "    <tr style=\"text-align: right;\">\n",
       "      <th></th>\n",
       "      <th>id</th>\n",
       "      <th>Валидация</th>\n",
       "      <th>status</th>\n",
       "    </tr>\n",
       "  </thead>\n",
       "  <tbody>\n",
       "    <tr>\n",
       "      <th>0</th>\n",
       "      <td>1559183</td>\n",
       "      <td>0</td>\n",
       "      <td>taskNotCompleted</td>\n",
       "    </tr>\n",
       "    <tr>\n",
       "      <th>1</th>\n",
       "      <td>1559308</td>\n",
       "      <td>0</td>\n",
       "      <td>taskNotCompleted</td>\n",
       "    </tr>\n",
       "    <tr>\n",
       "      <th>2</th>\n",
       "      <td>1559331</td>\n",
       "      <td>1</td>\n",
       "      <td>taskCompleted</td>\n",
       "    </tr>\n",
       "    <tr>\n",
       "      <th>3</th>\n",
       "      <td>1559417</td>\n",
       "      <td>1</td>\n",
       "      <td>taskCompleted</td>\n",
       "    </tr>\n",
       "    <tr>\n",
       "      <th>4</th>\n",
       "      <td>1560884</td>\n",
       "      <td>0</td>\n",
       "      <td>taskNotCompleted</td>\n",
       "    </tr>\n",
       "  </tbody>\n",
       "</table>\n",
       "</div>"
      ],
      "text/plain": [
       "        id  Валидация            status\n",
       "0  1559183          0  taskNotCompleted\n",
       "1  1559308          0  taskNotCompleted\n",
       "2  1559331          1     taskCompleted\n",
       "3  1559417          1     taskCompleted\n",
       "4  1560884          0  taskNotCompleted"
      ]
     },
     "execution_count": 15,
     "metadata": {},
     "output_type": "execute_result"
    }
   ],
   "source": [
    "update_sessions.head()"
   ]
  },
  {
   "cell_type": "code",
   "execution_count": 16,
   "id": "776ca66b-943e-4e8d-bc73-d61ef3274bf0",
   "metadata": {},
   "outputs": [],
   "source": [
    "update_sessions[['id', 'status']].to_excel('/Users/bashir/Desktop/НТУ/Валидация КОС/Обновление сессий 27.02.xlsx', index=False, header=None)"
   ]
  },
  {
   "cell_type": "code",
   "execution_count": null,
   "id": "abe39daf-ee70-4c7c-8aee-4a6b0c2d0565",
   "metadata": {},
   "outputs": [],
   "source": []
  }
 ],
 "metadata": {
  "kernelspec": {
   "display_name": "Python 3 (ipykernel)",
   "language": "python",
   "name": "python3"
  },
  "language_info": {
   "codemirror_mode": {
    "name": "ipython",
    "version": 3
   },
   "file_extension": ".py",
   "mimetype": "text/x-python",
   "name": "python",
   "nbconvert_exporter": "python",
   "pygments_lexer": "ipython3",
   "version": "3.9.12"
  },
  "toc": {
   "base_numbering": 1,
   "nav_menu": {},
   "number_sections": true,
   "sideBar": true,
   "skip_h1_title": false,
   "title_cell": "Table of Contents",
   "title_sidebar": "Contents",
   "toc_cell": false,
   "toc_position": {},
   "toc_section_display": true,
   "toc_window_display": false
  }
 },
 "nbformat": 4,
 "nbformat_minor": 5
}
