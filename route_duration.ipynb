{
 "cells": [
  {
   "cell_type": "code",
   "execution_count": 28,
   "id": "56d98b66-b8ee-4274-bb01-1aef7f822288",
   "metadata": {
    "tags": []
   },
   "outputs": [],
   "source": [
    "import pandas as pd\n",
    "import os\n",
    "import warnings\n",
    "warnings.filterwarnings('ignore')"
   ]
  },
  {
   "cell_type": "code",
   "execution_count": 29,
   "id": "75ab10ff-b1e3-4437-ab92-bc7253f58816",
   "metadata": {},
   "outputs": [],
   "source": [
    "# Путь к отчетам с сессиями\n",
    "PATH = r\"C:\\Users\\UmudovBM\\Desktop\\Час пик\""
   ]
  },
  {
   "cell_type": "code",
   "execution_count": 30,
   "id": "7ea8889b-605d-40d3-81ba-eb2647b89753",
   "metadata": {},
   "outputs": [],
   "source": [
    "data_bus = pd.DataFrame(columns=['id_session', 'bus_route', 'bus_route_duration', 'count'])\n",
    "data_auto = pd.DataFrame(columns=['id_session', 'auto_route', 'auto_route_duration', 'count'])"
   ]
  },
  {
   "cell_type": "code",
   "execution_count": 31,
   "id": "161b5617-64ef-4193-a799-63c7e50863c4",
   "metadata": {},
   "outputs": [],
   "source": [
    "for id_task in os.listdir(PATH):\n",
    "    k = 0\n",
    "    for id_session in os.listdir(os.path.join(PATH, id_task)):\n",
    "        file_name = os.listdir(os.path.join(PATH, id_task, id_session))\n",
    "        df = pd.read_excel(os.path.join(PATH, id_task, id_session, *file_name))\n",
    "        for index, rows in df.iterrows():\n",
    "            for i in range(1, 6):\n",
    "                if rows[0] == f'Длительность маршрута {i} на городском транспорте':\n",
    "                    data_bus.loc[k+i,'bus_route'] = rows[0]\n",
    "                    data_bus.loc[k+i, 'bus_route_duration'] = rows[1]\n",
    "                    data_bus.loc[k+i, 'id_session'] = df.loc[0, 'Unnamed: 1']\n",
    "                    data_bus.loc[k+i, 'count'] = i\n",
    "            for i in range(1, 6):        \n",
    "                if rows[0] == f'Длительность маршрута {i} на автомобиле':\n",
    "                    data_auto.loc[k+i, 'auto_route'] = rows[0]\n",
    "                    data_auto.loc[k+i, 'auto_route_duration'] = rows[1]\n",
    "                    data_auto.loc[k+i, 'id_session'] = df.loc[0, 'Unnamed: 1']\n",
    "                    data_auto.loc[k+i, 'count'] = i\n",
    "        k += i"
   ]
  },
  {
   "cell_type": "code",
   "execution_count": 32,
   "id": "014a06bd-6e8e-4761-9163-ec9bb1fab105",
   "metadata": {},
   "outputs": [],
   "source": [
    "data = pd.merge(data_bus,data_auto, on=['id_session','count'])"
   ]
  },
  {
   "cell_type": "code",
   "execution_count": 33,
   "id": "fe720ba5-18ac-4e8f-87c8-95f4961af16a",
   "metadata": {},
   "outputs": [],
   "source": [
    "data['bus_route_duration'] = pd.to_datetime(data['bus_route_duration'], format = '%H:%M', errors = 'coerce')\n",
    "data['auto_route_duration'] = pd.to_datetime(data['auto_route_duration'], format = '%H:%M', errors = 'coerce')"
   ]
  },
  {
   "cell_type": "code",
   "execution_count": 34,
   "id": "cc8dc6ca-fc1b-4b7c-af44-16e3698a4ce8",
   "metadata": {},
   "outputs": [],
   "source": [
    "data['is_twenty'] = data['bus_route_duration'] > '1900-01-01 00:20:00'"
   ]
  },
  {
   "cell_type": "code",
   "execution_count": 35,
   "id": "fd820001-1a57-48c3-839f-b456eb0a47fe",
   "metadata": {},
   "outputs": [],
   "source": [
    "def set_session_status(data):\n",
    "    if data == False:\n",
    "        return 'TaskNotCompleted'\n",
    "    return 'TaskCompleted'\n",
    "def set_session_reason(data):\n",
    "    if data == False:\n",
    "        return 'Длительность маршрута на городском транспорте менее 20 минут'   "
   ]
  },
  {
   "cell_type": "code",
   "execution_count": 36,
   "id": "e9b5327b-1bb5-4bfb-8259-ab198e81a05e",
   "metadata": {},
   "outputs": [],
   "source": [
    "data['session_status'] = data['is_twenty'].apply(set_session_status)\n",
    "data['session_reason'] = data['is_twenty'].apply(set_session_reason)"
   ]
  },
  {
   "cell_type": "code",
   "execution_count": 37,
   "id": "e57817f9-dd34-419c-b9a3-ec53ffe802df",
   "metadata": {},
   "outputs": [],
   "source": [
    "data['difference'] = (data['bus_route_duration'] - data['auto_route_duration']).dt.total_seconds()/60"
   ]
  },
  {
   "cell_type": "code",
   "execution_count": 38,
   "id": "4b6ded87-1ee2-4b11-bc17-ce700193a69a",
   "metadata": {},
   "outputs": [],
   "source": [
    "def set_fast(DATA):\n",
    "    if DATA['bus_route_duration'] < DATA['auto_route_duration']:\n",
    "        return f'быстрее на городском транспорте'\n",
    "    elif DATA['bus_route_duration'] > DATA['auto_route_duration']:\n",
    "        return f'быстрее на автомобиле'\n",
    "    else:\n",
    "         return f'длительность одинаковая' "
   ]
  },
  {
   "cell_type": "code",
   "execution_count": 39,
   "id": "e7ed7b27-8b9b-4faf-a8e9-90aee9641d67",
   "metadata": {},
   "outputs": [],
   "source": [
    "data['fast'] = data.apply(set_fast, axis=1)"
   ]
  },
  {
   "cell_type": "code",
   "execution_count": 40,
   "id": "9f4b2fe9-33bb-415b-b730-f2d421a8cc75",
   "metadata": {},
   "outputs": [],
   "source": [
    "data['count'] = data['count'].astype(str)"
   ]
  },
  {
   "cell_type": "code",
   "execution_count": 41,
   "id": "e04f1186-b880-4694-8651-36c693c8d4e9",
   "metadata": {},
   "outputs": [],
   "source": [
    "data['fast'] = 'На маршруте' +' '+ data['count'] +' '+ data['fast']"
   ]
  },
  {
   "cell_type": "code",
   "execution_count": 42,
   "id": "ea3ff5db-933e-4671-b41a-6bf95ae7d85f",
   "metadata": {},
   "outputs": [],
   "source": [
    "data.loc[data['bus_route_duration'].isna(), 'session_reason'] = 'Некерректно указана длительность маршрута'\n",
    "data.loc[data['auto_route_duration'].isna(), 'session_reason'] = 'Некерректно указана длительность маршрута'"
   ]
  },
  {
   "cell_type": "code",
   "execution_count": 43,
   "id": "c4796395-9412-4abd-9156-8dc2f5d28222",
   "metadata": {},
   "outputs": [],
   "source": [
    "not_succesfull = data[data['session_status'] == 'TaskNotCompleted']\n",
    "not_succesfull = not_succesfull[['id_session', 'session_status', 'session_reason']]"
   ]
  },
  {
   "cell_type": "code",
   "execution_count": 44,
   "id": "9cc2b3a5-e568-4600-8c80-36b423272699",
   "metadata": {},
   "outputs": [],
   "source": [
    "update_not_succesfull = not_succesfull.drop_duplicates()"
   ]
  },
  {
   "cell_type": "code",
   "execution_count": 45,
   "id": "ba392230-0e1f-4736-bd66-6d886d46d767",
   "metadata": {},
   "outputs": [],
   "source": [
    "good_data = data.query('id_session not in @update_not_succesfull.id_session')"
   ]
  },
  {
   "cell_type": "code",
   "execution_count": 49,
   "id": "c42d831b-836e-4628-bb06-b327fc9ff266",
   "metadata": {},
   "outputs": [],
   "source": [
    "successfull = good_data[['id_session', 'session_status']]"
   ]
  },
  {
   "cell_type": "code",
   "execution_count": 50,
   "id": "f13478c5-6c29-406b-8f16-b3371458228e",
   "metadata": {},
   "outputs": [],
   "source": [
    "update_successfull = successfull.drop_duplicates()"
   ]
  },
  {
   "cell_type": "code",
   "execution_count": 52,
   "id": "5c42d7b8-ca43-49b8-9e39-43ac89ec032d",
   "metadata": {},
   "outputs": [],
   "source": [
    "update_session = update_not_succesfull.append(update_successfull)"
   ]
  },
  {
   "cell_type": "code",
   "execution_count": 54,
   "id": "8bf87715-4746-47eb-9643-e38359897161",
   "metadata": {},
   "outputs": [],
   "source": [
    "update_not_succesfull.columns = ['id сессии', 'Проверка длительности маршрута', 'Статус']"
   ]
  },
  {
   "cell_type": "code",
   "execution_count": 55,
   "id": "aa8f95a0-9984-460e-97e6-b500cf518968",
   "metadata": {},
   "outputs": [],
   "source": [
    "update_successfull = update_successfull[['id_session', 'session_status']]\n",
    "update_successfull.columns = ['id сессии', 'Статус']"
   ]
  },
  {
   "cell_type": "code",
   "execution_count": 57,
   "id": "96d89d59-c507-493f-86d9-fa7e7e7600ec",
   "metadata": {},
   "outputs": [],
   "source": [
    "report = good_data[['id_session', 'fast', 'difference']]\n",
    "report['difference'] = abs(report['difference'])\n",
    "report.columns = ['id сессии', 'Сравнение между длительностью на городском транспорте и автомобиле', 'Разница во времени (минут)']"
   ]
  },
  {
   "cell_type": "code",
   "execution_count": 58,
   "id": "94621ff0-0c50-4035-88ac-67837e5ae3c1",
   "metadata": {},
   "outputs": [],
   "source": [
    "with pd.ExcelWriter(r\"C:\\Users\\UmudovBM\\Desktop\\Маршруты 02.02.xlsx\") as writer:\n",
    "    update_not_succesfull.to_excel(writer, sheet_name=\"Отклоненные\", index=False)\n",
    "    update_successfull.to_excel(writer, sheet_name=\"Успешные\", index=False)\n",
    "    report.to_excel(writer, sheet_name=\"Отчет\", index=False)"
   ]
  },
  {
   "cell_type": "code",
   "execution_count": 59,
   "id": "0b81acac-8cdb-4fd2-8390-41e8009e4a05",
   "metadata": {},
   "outputs": [],
   "source": [
    "update_session.to_excel(r\"C:\\Users\\UmudovBM\\Desktop\\Обновление сессий ЧАС ПИК 02.02.xlsx\", index=False, header=None)"
   ]
  }
 ],
 "metadata": {
  "kernelspec": {
   "display_name": "Python 3 (ipykernel)",
   "language": "python",
   "name": "python3"
  },
  "language_info": {
   "codemirror_mode": {
    "name": "ipython",
    "version": 3
   },
   "file_extension": ".py",
   "mimetype": "text/x-python",
   "name": "python",
   "nbconvert_exporter": "python",
   "pygments_lexer": "ipython3",
   "version": "3.9.12"
  }
 },
 "nbformat": 4,
 "nbformat_minor": 5
}
