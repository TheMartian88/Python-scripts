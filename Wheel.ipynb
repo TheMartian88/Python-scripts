{
 "cells": [
  {
   "cell_type": "code",
   "execution_count": 1,
   "metadata": {},
   "outputs": [],
   "source": [
    "import os\n",
    "import re\n",
    "import pandas as pd\n",
    "import warnings\n",
    "warnings.filterwarnings(\"ignore\")"
   ]
  },
  {
   "cell_type": "code",
   "execution_count": 2,
   "metadata": {
    "pycharm": {
     "name": "#%%\n"
    }
   },
   "outputs": [],
   "source": [
    "PATH = r\"C:\\Users\\UmudovBM\\Desktop\\Валидация Рули\\Новая папка\" # путь к отчетам сессиям\n",
    "sep = \"\\\\\""
   ]
  },
  {
   "cell_type": "code",
   "execution_count": 3,
   "metadata": {
    "pycharm": {
     "name": "#%%\n"
    },
    "tags": []
   },
   "outputs": [],
   "source": [
    "correct_answer = {'Оборудование «Рули»': 'Все перечисленные варианты',\n",
    "                  'Как происходит поиск арендаторов?': 'Проверенные пользователи сервиса «Рули» отправляют заявки владельцам автомобилей для подтверждения',\n",
    "                  'Как застраховать аренду в «Рули»?': 'Подключить опцию «КАСКО» в приложении и страховку оплатит арендатор',\n",
    "                  'Почему «Рули» – это выгодно?': 'Сервис позволяет получать доход от сдачи автомобиля в аренду и снизить тем самым расходы на его содержание',\n",
    "                  'Почему «Рули» – это безопасно?': 'все перечисленные варианты',\n",
    "                  'Почему «Рули» – это удобно?': 'все перечисленные варианты',\n",
    "                  '«Рули» – это': 'Новый городской сервис для автовладельцев',\n",
    "                  'А как насчет угона автомобиля?': 'Все перечисленные варианты',\n",
    "                  'Что получает автовладелец при подключении к сервису?': 'перегон автомобиля в сервис, бесплатное оборудование и его установку, а также ОСАГО на три месяца и бесплатный доступ к сервису',\n",
    "                  'Зачем это нужно городу?': 'Чем больше людей пользуется одним автомобилем, тем больше разгружается дорожная сеть города. Это положительно влияет на облик города и экологию',\n",
    "                  'Что происходит после подключения автомобиля к сервису «Рули»?': 'владелец сам решает, когда и кому сдать автомобиль в аренду'}"
   ]
  },
  {
   "cell_type": "code",
   "execution_count": 4,
   "metadata": {
    "pycharm": {
     "name": "#%%\n"
    }
   },
   "outputs": [],
   "source": [
    "ready_answer = 'Готовы ли вы подключить свой автомобиль?'\n",
    "answer_not = 'Ваш комментарий'\n",
    "ready_session = {}"
   ]
  },
  {
   "cell_type": "code",
   "execution_count": 5,
   "metadata": {
    "pycharm": {
     "name": "#%%\n"
    }
   },
   "outputs": [],
   "source": [
    "win_poll_session = []\n",
    "win_poll ={}\n",
    "loser_session = {}\n",
    "for id_task in os.listdir(PATH):\n",
    "    for id_session in os.listdir('{0}{1}{2}'.format(PATH, sep, id_task)):\n",
    "        answer_sum = 0\n",
    "        file_name = os.listdir('{0}{1}{2}{1}{3}.'.format(PATH, sep, id_task, id_session))\n",
    "        df = pd.read_excel('{0}{1}{2}{1}{3}{1}{4}'.format(PATH, sep, id_task,id_session,*file_name))\n",
    "        for question,answer in correct_answer.items():\n",
    "            if df[df[df.columns[0]] == question].iat[0,1].lower() == answer.lower():\n",
    "                answer_sum += 1\n",
    "        if answer_sum > 7 :\n",
    "            win_poll_session.append(int(id_session))\n",
    "            win_poll[id_session] = answer_sum\n",
    "        else:\n",
    "            loser_session[id_session] = answer_sum\n",
    "\n",
    "        ready_session[int(id_session)]=  ','.join(str(i) for i in [df[df[df.columns[0]] == ready_answer].iat[0,1],\n",
    "                                                                   df[df[df.columns[0]] == answer_not].iat[0,1]])"
   ]
  },
  {
   "cell_type": "code",
   "execution_count": 6,
   "metadata": {
    "pycharm": {
     "name": "#%%\n"
    }
   },
   "outputs": [],
   "source": [
    "df_ready_session = pd.DataFrame(list(ready_session.items()), columns=['id_session', 'ready_answer'])"
   ]
  },
  {
   "cell_type": "code",
   "execution_count": 7,
   "metadata": {
    "pycharm": {
     "name": "#%%\n"
    }
   },
   "outputs": [
    {
     "data": {
      "text/plain": [
       "7    1\n",
       "Name: answer_loser, dtype: int64"
      ]
     },
     "execution_count": 7,
     "metadata": {},
     "output_type": "execute_result"
    }
   ],
   "source": [
    "df_loser_session_count = pd.DataFrame(list(loser_session.items()), columns=['id_session', 'answer_loser'])\n",
    "df_loser_session_count.answer_loser.value_counts()"
   ]
  },
  {
   "cell_type": "code",
   "execution_count": 8,
   "metadata": {
    "pycharm": {
     "name": "#%%\n"
    }
   },
   "outputs": [
    {
     "data": {
      "text/plain": [
       "11    3\n",
       "9     1\n",
       "Name: answer_win, dtype: int64"
      ]
     },
     "execution_count": 8,
     "metadata": {},
     "output_type": "execute_result"
    }
   ],
   "source": [
    "win_poll_count = pd.DataFrame(list(win_poll.items()), columns=['id_session', 'answer_win'])\n",
    "win_poll_count.answer_win.value_counts()"
   ]
  },
  {
   "cell_type": "code",
   "execution_count": 9,
   "metadata": {
    "pycharm": {
     "name": "#%%\n"
    }
   },
   "outputs": [],
   "source": [
    "# Выгрузка из Базы Данных по сессиям и юзерам\n",
    "PATH_database = r\"C:\\Users\\UmudovBM\\Desktop\\Валидация Рули\\Выгрузки BI\""
   ]
  },
  {
   "cell_type": "code",
   "execution_count": 10,
   "metadata": {
    "pycharm": {
     "name": "#%%\n"
    }
   },
   "outputs": [],
   "source": [
    "unload_database = ['ГЗ_2_03 Выгрузка sessions.xlsx','ГЗ_2_04 Выгрузка user.xlsx']"
   ]
  },
  {
   "cell_type": "code",
   "execution_count": 11,
   "metadata": {
    "pycharm": {
     "name": "#%%\n"
    }
   },
   "outputs": [],
   "source": [
    "df_users = pd.read_excel('{0}{1}{2}'.format(PATH_database, sep,unload_database[1]))"
   ]
  },
  {
   "cell_type": "code",
   "execution_count": 12,
   "metadata": {
    "pycharm": {
     "name": "#%%\n"
    }
   },
   "outputs": [],
   "source": [
    "df_sessions = pd.read_excel('{0}{1}{2}'.format(PATH_database, sep,unload_database[0]))"
   ]
  },
  {
   "cell_type": "code",
   "execution_count": 13,
   "metadata": {
    "pycharm": {
     "name": "#%%\n"
    }
   },
   "outputs": [],
   "source": [
    "def rename_columns(df):\n",
    "    columns = [str(i).replace(' ', '_') for i in df.iloc[1]]\n",
    "    eld_columns = [i for i in df.columns]\n",
    "    dict_columns = {}\n",
    "    for i in range(len(columns)):\n",
    "        dict_columns[eld_columns[i]] = columns[i]\n",
    "    df.rename(columns=dict_columns,inplace=True)\n",
    "    df.drop([0,1,2], inplace=True)"
   ]
  },
  {
   "cell_type": "code",
   "execution_count": 14,
   "metadata": {
    "pycharm": {
     "name": "#%%\n"
    }
   },
   "outputs": [],
   "source": [
    "rename_columns(df_users)\n",
    "rename_columns(df_sessions)"
   ]
  },
  {
   "cell_type": "code",
   "execution_count": 15,
   "metadata": {
    "pycharm": {
     "name": "#%%\n"
    }
   },
   "outputs": [],
   "source": [
    "df_users.drop(df_users.columns.difference(['id','firstname', 'lastname', 'middlename','email','phone', ]), 1, inplace=True)"
   ]
  },
  {
   "cell_type": "code",
   "execution_count": 16,
   "metadata": {
    "pycharm": {
     "name": "#%%\n"
    }
   },
   "outputs": [
    {
     "data": {
      "text/plain": [
       "Timestamp('2023-02-08 22:52:59')"
      ]
     },
     "execution_count": 16,
     "metadata": {},
     "output_type": "execute_result"
    }
   ],
   "source": [
    "import datetime\n",
    "date = pd.Timestamp('2023-02-08 22:52:59') # Ограничение по дате (наша выгрузка)\n",
    "date"
   ]
  },
  {
   "cell_type": "code",
   "execution_count": 17,
   "metadata": {
    "pycharm": {
     "name": "#%%\n"
    }
   },
   "outputs": [],
   "source": [
    "df_sessions= df_sessions[(df_sessions.task_id == 18089) &\n",
    "                         (df_sessions.status == 6) &\n",
    "                         (df_sessions.updated_at < date)] # сессии рули ожидающие подтверждения\n",
    "# df_sessions = df_sessions[(df_sessions['task_id'] == 18089) &\n",
    "                         # (df_sessions['status'] == 6) &\n",
    "                         # (df_sessions['updated_at'] < date)] "
   ]
  },
  {
   "cell_type": "code",
   "execution_count": 18,
   "metadata": {
    "pycharm": {
     "name": "#%%\n"
    }
   },
   "outputs": [],
   "source": [
    "df_sessions.drop(df_sessions.columns.difference(['id','updated_at', 'task_id', 'status', 'user_id']), 1, inplace=True)"
   ]
  },
  {
   "cell_type": "code",
   "execution_count": 19,
   "metadata": {
    "pycharm": {
     "name": "#%%\n"
    }
   },
   "outputs": [],
   "source": [
    "df_sessions_users = df_sessions.merge(df_users, how='inner',left_on= 'user_id', right_on= 'id' ).drop(columns='id_y')"
   ]
  },
  {
   "cell_type": "code",
   "execution_count": 20,
   "metadata": {
    "pycharm": {
     "name": "#%%\n"
    }
   },
   "outputs": [],
   "source": [
    "df_ready_session = df_sessions_users.merge(df_ready_session,how='inner',left_on= 'id_x', right_on= 'id_session').\\\n",
    "    drop(columns='id_session')"
   ]
  },
  {
   "cell_type": "code",
   "execution_count": 21,
   "metadata": {
    "pycharm": {
     "name": "#%%\n"
    }
   },
   "outputs": [],
   "source": [
    "def re_search(x):\n",
    "    line = re.search(r'[\\w\\W]*@', str(x))\n",
    "    if line:\n",
    "        return line.group()"
   ]
  },
  {
   "cell_type": "code",
   "execution_count": 22,
   "metadata": {
    "pycharm": {
     "name": "#%%\n"
    }
   },
   "outputs": [],
   "source": [
    "df_ready_session['pattern'] =  df_ready_session['email'].apply(lambda x: re_search(x))"
   ]
  },
  {
   "cell_type": "code",
   "execution_count": 23,
   "metadata": {
    "pycharm": {
     "name": "#%%\n"
    }
   },
   "outputs": [],
   "source": [
    "# выгрузка Заказчика\n",
    "df_unload_customer = pd.read_csv(r\"C:\\Users\\UmudovBM\\Desktop\\Валидация Рули\\Отчеты заказчика\\11483_28148_01_12_2022_13_02_2023_cases_540930123f6dfb4e7a968976e4aa035a.csv\", sep=';', on_bad_lines='skip')"
   ]
  },
  {
   "cell_type": "code",
   "execution_count": 24,
   "metadata": {
    "pycharm": {
     "name": "#%%\n"
    }
   },
   "outputs": [],
   "source": [
    "def search_unload_customer(x):\n",
    "    contol_string = ','.join(list(df_unload_customer['Отправитель'].values))\n",
    "    find_email = re.search(str(x), contol_string)\n",
    "    if find_email:\n",
    "        return True\n",
    "    return False"
   ]
  },
  {
   "cell_type": "code",
   "execution_count": 25,
   "metadata": {
    "pycharm": {
     "name": "#%%\n"
    }
   },
   "outputs": [],
   "source": [
    "df_ready_session['win_email'] = df_ready_session['pattern'].apply(lambda x: search_unload_customer(x))"
   ]
  },
  {
   "cell_type": "code",
   "execution_count": 26,
   "metadata": {
    "pycharm": {
     "name": "#%%\n"
    }
   },
   "outputs": [],
   "source": [
    "win_win = df_ready_session[df_ready_session.id_x.isin(win_poll_session) & df_ready_session.win_email == True]"
   ]
  },
  {
   "cell_type": "code",
   "execution_count": 27,
   "metadata": {
    "pycharm": {
     "name": "#%%\n"
    }
   },
   "outputs": [],
   "source": [
    "win_win['result'] = ['taskCompleted' for i in range(win_win.shape[0])]"
   ]
  },
  {
   "cell_type": "code",
   "execution_count": 28,
   "metadata": {
    "pycharm": {
     "name": "#%%\n"
    }
   },
   "outputs": [],
   "source": [
    "loser_game = df_ready_session[~df_ready_session.id_x.isin(win_win.id_x)]"
   ]
  },
  {
   "cell_type": "code",
   "execution_count": 29,
   "metadata": {
    "pycharm": {
     "name": "#%%\n"
    }
   },
   "outputs": [],
   "source": [
    "loser_game['result'] = ['taskNotCompleted' for i in range(loser_game.shape[0])]"
   ]
  },
  {
   "cell_type": "code",
   "execution_count": 30,
   "metadata": {
    "pycharm": {
     "name": "#%%\n"
    }
   },
   "outputs": [
    {
     "data": {
      "text/plain": [
       "(1, 3)"
      ]
     },
     "execution_count": 30,
     "metadata": {},
     "output_type": "execute_result"
    }
   ],
   "source": [
    "loser_game.shape[0],win_win.shape[0]"
   ]
  },
  {
   "cell_type": "code",
   "execution_count": 31,
   "metadata": {},
   "outputs": [],
   "source": [
    "session_update = win_win[['id_x', 'result']].append(loser_game[['id_x', 'result']])"
   ]
  },
  {
   "cell_type": "code",
   "execution_count": 32,
   "metadata": {},
   "outputs": [],
   "source": [
    "users_answers = win_win[['email', 'firstname', 'lastname', 'middlename', 'ready_answer']]"
   ]
  },
  {
   "cell_type": "code",
   "execution_count": 33,
   "metadata": {},
   "outputs": [],
   "source": [
    "users_answers['ФИО'] = users_answers['lastname'] + ' ' + users_answers['firstname'] + ' ' + users_answers['middlename']"
   ]
  },
  {
   "cell_type": "code",
   "execution_count": 34,
   "metadata": {},
   "outputs": [],
   "source": [
    "def set_answer_1(data):\n",
    "    if data[:3] == 'Нет':\n",
    "        return data[4:]"
   ]
  },
  {
   "cell_type": "code",
   "execution_count": 35,
   "metadata": {},
   "outputs": [],
   "source": [
    "users_answers['comment'] = users_answers['ready_answer'].apply(set_answer_1)"
   ]
  },
  {
   "cell_type": "code",
   "execution_count": 36,
   "metadata": {},
   "outputs": [],
   "source": [
    "def set_answer_2(data):\n",
    "    if data[:3] == 'Нет':\n",
    "        return data[:3]\n",
    "    if data[:2] == 'Да':\n",
    "        return data[:2] "
   ]
  },
  {
   "cell_type": "code",
   "execution_count": 37,
   "metadata": {},
   "outputs": [],
   "source": [
    "users_answers['ready_answer '] = users_answers['ready_answer'].apply(set_answer_2)"
   ]
  },
  {
   "cell_type": "code",
   "execution_count": 38,
   "metadata": {},
   "outputs": [],
   "source": [
    "users_answers_yes = users_answers[users_answers['ready_answer '] == 'Да']"
   ]
  },
  {
   "cell_type": "code",
   "execution_count": 39,
   "metadata": {},
   "outputs": [],
   "source": [
    "users_answers_yes = users_answers_yes[['ФИО', 'email', 'ready_answer ']]"
   ]
  },
  {
   "cell_type": "code",
   "execution_count": 40,
   "metadata": {
    "tags": []
   },
   "outputs": [],
   "source": [
    "users_answers_no = users_answers[users_answers['ready_answer '] == 'Нет']"
   ]
  },
  {
   "cell_type": "code",
   "execution_count": 41,
   "metadata": {},
   "outputs": [],
   "source": [
    "users_answers_no = users_answers_no[['ФИО', 'email', 'ready_answer ', 'comment']]"
   ]
  },
  {
   "cell_type": "code",
   "execution_count": 42,
   "metadata": {},
   "outputs": [],
   "source": [
    "with pd.ExcelWriter(r\"C:\\Users\\UmudovBM\\Desktop\\Валидация Рули\\Для заказчика\\Ответы пользователей 09.02.xlsx\".format(sep)) as writer:\n",
    "    users_answers_yes.to_excel(writer, sheet_name=\"Да\", index=False)\n",
    "    users_answers_no.to_excel(writer, sheet_name=\"Нет\", index=False)"
   ]
  },
  {
   "cell_type": "code",
   "execution_count": 43,
   "metadata": {},
   "outputs": [],
   "source": [
    "session_update.to_excel(r\"C:\\Users\\UmudovBM\\Desktop\\Валидация Рули\\Обновление сессий\\Обновление сессий 09.02.xlsx\", index=False, header=None)"
   ]
  },
  {
   "cell_type": "code",
   "execution_count": 44,
   "metadata": {
    "pycharm": {
     "name": "#%%\n"
    }
   },
   "outputs": [],
   "source": [
    "#with pd.ExcelWriter(r'C:\\Users\\UmudovBM\\Desktop\\Валидация Рули\\Результаты\\result_wheels 25.01.xlsx'.format(sep)) as writer:\n",
    "    #win_win.to_excel(writer, sheet_name=\"Победители\")\n",
    "    #loser_game.to_excel(writer, sheet_name=\"Неудачники\")\n",
    "    #df_ready_session.to_excel(writer, sheet_name = \"Ответы\" )"
   ]
  }
 ],
 "metadata": {
  "kernelspec": {
   "display_name": "Python 3 (ipykernel)",
   "language": "python",
   "name": "python3"
  },
  "language_info": {
   "codemirror_mode": {
    "name": "ipython",
    "version": 3
   },
   "file_extension": ".py",
   "mimetype": "text/x-python",
   "name": "python",
   "nbconvert_exporter": "python",
   "pygments_lexer": "ipython3",
   "version": "3.10.6"
  }
 },
 "nbformat": 4,
 "nbformat_minor": 4
}
