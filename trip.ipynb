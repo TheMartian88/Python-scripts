{
 "cells": [
  {
   "cell_type": "code",
   "execution_count": 101,
   "id": "41fcdf39-c512-4f53-907a-7ec33e51c6fe",
   "metadata": {},
   "outputs": [],
   "source": [
    "import os\n",
    "import pandas as pd\n",
    "import warnings\n",
    "warnings.filterwarnings('ignore')"
   ]
  },
  {
   "cell_type": "code",
   "execution_count": 102,
   "id": "c6d7ee98-acea-4080-8426-3973258d9a68",
   "metadata": {},
   "outputs": [],
   "source": [
    "# Путь к отчетам с сессиями по заданию 32716\n",
    "PATH = '/Users/bashir/Desktop/НТУ/Отчеты'"
   ]
  },
  {
   "cell_type": "code",
   "execution_count": 103,
   "id": "5ca2caab-8b6b-40d1-960e-bf336d01828d",
   "metadata": {},
   "outputs": [],
   "source": [
    "# Промокоды\n",
    "external_data = pd.read_excel('/Users/bashir/Downloads/Коды_ГЗ_Умный_город_200123.xlsx')"
   ]
  },
  {
   "cell_type": "code",
   "execution_count": 104,
   "id": "38e4456b-31de-4b9f-8da2-db922b355db0",
   "metadata": {},
   "outputs": [],
   "source": [
    "promo_code = []\n",
    "promo_code_1 = []\n",
    "for id_task in os.listdir(PATH):\n",
    "    for id_session in os.listdir(os.path.join(PATH, id_task)):\n",
    "        file_name = os.listdir(os.path.join(PATH, id_task, id_session))\n",
    "        df = pd.read_excel(os.path.join(PATH, id_task, id_session, *file_name))\n",
    "        for index, rows in df.iterrows():\n",
    "            if rows[0] == 'Введите полученный промокод':\n",
    "                promo_code.append(rows[1])\n",
    "            if rows[0] == 'ID сессии':\n",
    "                promo_code_1.append(rows[1])"
   ]
  },
  {
   "cell_type": "code",
   "execution_count": 105,
   "id": "db531600-ad01-4cca-9415-b4328f1b822e",
   "metadata": {},
   "outputs": [],
   "source": [
    "d = {'id_session': promo_code_1, 'promo_code': promo_code}\n",
    "data = pd.DataFrame(data = d)"
   ]
  },
  {
   "cell_type": "code",
   "execution_count": 107,
   "id": "6d44f3a3-b48a-4726-beec-bb44259c27c7",
   "metadata": {},
   "outputs": [],
   "source": [
    "good_data = data.query('promo_code in @external_data.promo')\n",
    "not_good_data = data.query('promo_code not in @external_data.promo')"
   ]
  },
  {
   "cell_type": "code",
   "execution_count": 108,
   "id": "427917d6-174e-4e41-8ded-c8b5d6113717",
   "metadata": {},
   "outputs": [],
   "source": [
    "good_data['status'] = 'TaskCompleted'\n",
    "not_good_data['status'] = 'TaskNotCompleted'"
   ]
  },
  {
   "cell_type": "code",
   "execution_count": 109,
   "id": "d47fc09e-37f4-419e-ba08-3796ba88cac4",
   "metadata": {},
   "outputs": [],
   "source": [
    "good_data = good_data.append(not_good_data)"
   ]
  },
  {
   "cell_type": "code",
   "execution_count": 110,
   "id": "f56c195b-7004-476e-b7e3-620103f0bd6d",
   "metadata": {},
   "outputs": [
    {
     "data": {
      "text/html": [
       "<div>\n",
       "<style scoped>\n",
       "    .dataframe tbody tr th:only-of-type {\n",
       "        vertical-align: middle;\n",
       "    }\n",
       "\n",
       "    .dataframe tbody tr th {\n",
       "        vertical-align: top;\n",
       "    }\n",
       "\n",
       "    .dataframe thead th {\n",
       "        text-align: right;\n",
       "    }\n",
       "</style>\n",
       "<table border=\"1\" class=\"dataframe\">\n",
       "  <thead>\n",
       "    <tr style=\"text-align: right;\">\n",
       "      <th></th>\n",
       "      <th>id_session</th>\n",
       "      <th>promo_code</th>\n",
       "      <th>status</th>\n",
       "    </tr>\n",
       "  </thead>\n",
       "  <tbody>\n",
       "    <tr>\n",
       "      <th>1</th>\n",
       "      <td>1515148</td>\n",
       "      <td>GZA1OTS36</td>\n",
       "      <td>TaskCompleted</td>\n",
       "    </tr>\n",
       "    <tr>\n",
       "      <th>0</th>\n",
       "      <td>1515145</td>\n",
       "      <td>83458902374589732</td>\n",
       "      <td>TaskNotCompleted</td>\n",
       "    </tr>\n",
       "  </tbody>\n",
       "</table>\n",
       "</div>"
      ],
      "text/plain": [
       "   id_session         promo_code            status\n",
       "1     1515148          GZA1OTS36     TaskCompleted\n",
       "0     1515145  83458902374589732  TaskNotCompleted"
      ]
     },
     "execution_count": 110,
     "metadata": {},
     "output_type": "execute_result"
    }
   ],
   "source": [
    "good_data"
   ]
  },
  {
   "cell_type": "code",
   "execution_count": null,
   "id": "118fa4de-5774-492f-881e-bc3972220c99",
   "metadata": {},
   "outputs": [],
   "source": [
    "data[['id_session', 'status']].to_excel('/Users/bashir/Desktop/Валидация КОСII/Обноление сессий 18.11.xlsx', index=False, header=None)"
   ]
  }
 ],
 "metadata": {
  "kernelspec": {
   "display_name": "Python 3 (ipykernel)",
   "language": "python",
   "name": "python3"
  },
  "language_info": {
   "codemirror_mode": {
    "name": "ipython",
    "version": 3
   },
   "file_extension": ".py",
   "mimetype": "text/x-python",
   "name": "python",
   "nbconvert_exporter": "python",
   "pygments_lexer": "ipython3",
   "version": "3.9.12"
  }
 },
 "nbformat": 4,
 "nbformat_minor": 5
}
