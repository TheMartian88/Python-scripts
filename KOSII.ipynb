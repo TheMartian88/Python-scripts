{
 "cells": [
  {
   "cell_type": "code",
   "execution_count": 1,
   "id": "4fb9c40d-2ff6-4b6f-ba5c-28f8af3d094f",
   "metadata": {},
   "outputs": [],
   "source": [
    "import os\n",
    "import pandas as pd\n"
   ]
  },
  {
   "cell_type": "code",
   "execution_count": 2,
   "id": "a43d1704-7e84-4d87-914b-0dd0e44256e9",
   "metadata": {},
   "outputs": [],
   "source": [
    "# Путь к отчетам с сессиями по заданию 28174\n",
    "PATH = '/Users/bashir/Desktop/Валидация КОСII/Отчеты'"
   ]
  },
  {
   "cell_type": "code",
   "execution_count": 3,
   "id": "a872643f-e374-4c64-8811-87ce93a6f37b",
   "metadata": {},
   "outputs": [],
   "source": [
    "# Выгрузка BI для задания 28173\n",
    "data = pd.read_excel('/Users/bashir/Desktop/Валидация КОСII/ГЗ_2_03 Выгрузка sessions.xlsx', skiprows=2)[['id','task id','verify code']]\n",
    "data.columns = ['id', 'task id', 'verify_code']\n",
    "data = data[data['task id'] == 39937]"
   ]
  },
  {
   "cell_type": "code",
   "execution_count": 4,
   "id": "74654432-bd5f-4f29-96e3-c19db8674249",
   "metadata": {},
   "outputs": [],
   "source": [
    "verify_code = []\n",
    "for id_task in os.listdir(PATH):\n",
    "    for id_session in os.listdir(os.path.join(PATH, id_task)):\n",
    "        file_name = os.listdir(os.path.join(PATH, id_task, id_session))\n",
    "        df = pd.read_excel(os.path.join(PATH, id_task, id_session, *file_name))\n",
    "        for index, rows in df.iterrows():\n",
    "            if rows[0] == 'Введите уникальный код участника':\n",
    "                verify_code.append(rows[1])"
   ]
  },
  {
   "cell_type": "code",
   "execution_count": 5,
   "id": "b359409a-ef17-4afe-99f0-9a1d9a1b0b37",
   "metadata": {},
   "outputs": [],
   "source": [
    "data = data.query('verify_code in @verify_code')\n",
    "data['status'] = 'taskCompleted'"
   ]
  },
  {
   "cell_type": "code",
   "execution_count": 6,
   "id": "8b15d862-c31b-441a-add9-c5338a9be1fe",
   "metadata": {},
   "outputs": [],
   "source": [
    "data[['id', 'status']].to_excel('/Users/bashir/Desktop/Валидация КОСII/Обноление сессий 18.11.xlsx', index=False, header=None)"
   ]
  }
 ],
 "metadata": {
  "kernelspec": {
   "display_name": "Python 3 (ipykernel)",
   "language": "python",
   "name": "python3"
  },
  "language_info": {
   "codemirror_mode": {
    "name": "ipython",
    "version": 3
   },
   "file_extension": ".py",
   "mimetype": "text/x-python",
   "name": "python",
   "nbconvert_exporter": "python",
   "pygments_lexer": "ipython3",
   "version": "3.9.12"
  }
 },
 "nbformat": 4,
 "nbformat_minor": 5
}
